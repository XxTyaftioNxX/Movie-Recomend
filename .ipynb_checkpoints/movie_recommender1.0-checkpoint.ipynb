{
 "cells": [
  {
   "cell_type": "code",
   "execution_count": 1,
   "id": "07b25055",
   "metadata": {},
   "outputs": [],
   "source": [
    "import pandas as pd\n",
    "import numpy as np"
   ]
  },
  {
   "cell_type": "code",
   "execution_count": 2,
   "id": "9e077cf0",
   "metadata": {},
   "outputs": [
    {
     "name": "stdout",
     "output_type": "stream",
     "text": [
      "handle: data_16_21.csv\n",
      "data_16_21.csv\n"
     ]
    }
   ],
   "source": [
    "movies = pd.read_csv('data_16_21.csv')"
   ]
  },
  {
   "cell_type": "code",
   "execution_count": 3,
   "id": "e57c9a6f",
   "metadata": {},
   "outputs": [
    {
     "data": {
      "text/html": [
       "<div>\n",
       "<style scoped>\n",
       "    .dataframe tbody tr th:only-of-type {\n",
       "        vertical-align: middle;\n",
       "    }\n",
       "\n",
       "    .dataframe tbody tr th {\n",
       "        vertical-align: top;\n",
       "    }\n",
       "\n",
       "    .dataframe thead th {\n",
       "        text-align: right;\n",
       "    }\n",
       "</style>\n",
       "<table border=\"1\" class=\"dataframe\">\n",
       "  <thead>\n",
       "    <tr style=\"text-align: right;\">\n",
       "      <th></th>\n",
       "      <th>Unnamed: 0</th>\n",
       "      <th>director_name</th>\n",
       "      <th>actor_1_name</th>\n",
       "      <th>actor_2_name</th>\n",
       "      <th>actor_3_name</th>\n",
       "      <th>genres</th>\n",
       "      <th>movie_title</th>\n",
       "      <th>summary</th>\n",
       "    </tr>\n",
       "  </thead>\n",
       "  <tbody>\n",
       "    <tr>\n",
       "      <th>0</th>\n",
       "      <td>0</td>\n",
       "      <td>James Cameron</td>\n",
       "      <td>CCH Pounder</td>\n",
       "      <td>Joel David Moore</td>\n",
       "      <td>Wes Studi</td>\n",
       "      <td>Action Adventure Fantasy Sci-Fi</td>\n",
       "      <td>avatar</td>\n",
       "      <td>CCH Pounder Joel David Moore Wes Studi James C...</td>\n",
       "    </tr>\n",
       "    <tr>\n",
       "      <th>1</th>\n",
       "      <td>1</td>\n",
       "      <td>Gore Verbinski</td>\n",
       "      <td>Johnny Depp</td>\n",
       "      <td>Orlando Bloom</td>\n",
       "      <td>Jack Davenport</td>\n",
       "      <td>Action Adventure Fantasy</td>\n",
       "      <td>pirates of the caribbean: at world's end</td>\n",
       "      <td>Johnny Depp Orlando Bloom Jack Davenport Gore ...</td>\n",
       "    </tr>\n",
       "    <tr>\n",
       "      <th>2</th>\n",
       "      <td>2</td>\n",
       "      <td>Sam Mendes</td>\n",
       "      <td>Christoph Waltz</td>\n",
       "      <td>Rory Kinnear</td>\n",
       "      <td>Stephanie Sigman</td>\n",
       "      <td>Action Adventure Thriller</td>\n",
       "      <td>spectre</td>\n",
       "      <td>Christoph Waltz Rory Kinnear Stephanie Sigman ...</td>\n",
       "    </tr>\n",
       "    <tr>\n",
       "      <th>3</th>\n",
       "      <td>3</td>\n",
       "      <td>Christopher Nolan</td>\n",
       "      <td>Tom Hardy</td>\n",
       "      <td>Christian Bale</td>\n",
       "      <td>Joseph Gordon-Levitt</td>\n",
       "      <td>Action Thriller</td>\n",
       "      <td>the dark knight rises</td>\n",
       "      <td>Tom Hardy Christian Bale Joseph Gordon-Levitt ...</td>\n",
       "    </tr>\n",
       "    <tr>\n",
       "      <th>4</th>\n",
       "      <td>4</td>\n",
       "      <td>Doug Walker</td>\n",
       "      <td>Doug Walker</td>\n",
       "      <td>Rob Walker</td>\n",
       "      <td>unknown</td>\n",
       "      <td>Documentary</td>\n",
       "      <td>star wars: episode vii - the force awakens</td>\n",
       "      <td>Doug Walker Rob Walker unknown Doug Walker Doc...</td>\n",
       "    </tr>\n",
       "    <tr>\n",
       "      <th>...</th>\n",
       "      <td>...</td>\n",
       "      <td>...</td>\n",
       "      <td>...</td>\n",
       "      <td>...</td>\n",
       "      <td>...</td>\n",
       "      <td>...</td>\n",
       "      <td>...</td>\n",
       "      <td>...</td>\n",
       "    </tr>\n",
       "    <tr>\n",
       "      <th>6422</th>\n",
       "      <td>6422</td>\n",
       "      <td>Garth Jennings</td>\n",
       "      <td>Matthew McConaughey</td>\n",
       "      <td>Reese Witherspoon</td>\n",
       "      <td>Scarlett Johansson</td>\n",
       "      <td>Family Comedy Animation Drama Music</td>\n",
       "      <td>sing 2</td>\n",
       "      <td>Matthew McConaughey Reese Witherspoon Scarlett...</td>\n",
       "    </tr>\n",
       "    <tr>\n",
       "      <th>6423</th>\n",
       "      <td>6423</td>\n",
       "      <td>Matthew Vaughn</td>\n",
       "      <td>Ralph Fiennes</td>\n",
       "      <td>Gemma Arterton</td>\n",
       "      <td>Rhys Ifans</td>\n",
       "      <td>War Action Thriller Adventure</td>\n",
       "      <td>the king's man</td>\n",
       "      <td>Ralph Fiennes Gemma Arterton Rhys Ifans Matthe...</td>\n",
       "    </tr>\n",
       "    <tr>\n",
       "      <th>6424</th>\n",
       "      <td>6424</td>\n",
       "      <td>Joel Coen</td>\n",
       "      <td>Denzel Washington</td>\n",
       "      <td>Frances McDormand</td>\n",
       "      <td>Corey Hawkins</td>\n",
       "      <td>Drama Thriller War</td>\n",
       "      <td>the tragedy of macbeth</td>\n",
       "      <td>Denzel Washington Frances McDormand Corey Hawk...</td>\n",
       "    </tr>\n",
       "    <tr>\n",
       "      <th>6425</th>\n",
       "      <td>6425</td>\n",
       "      <td>Erwin brothers</td>\n",
       "      <td>Zachary Levi</td>\n",
       "      <td>Anna Paquin</td>\n",
       "      <td>Dennis Quaid</td>\n",
       "      <td>Drama</td>\n",
       "      <td>american underdog</td>\n",
       "      <td>Zachary Levi Anna Paquin Dennis Quaid Erwin br...</td>\n",
       "    </tr>\n",
       "    <tr>\n",
       "      <th>6426</th>\n",
       "      <td>6426</td>\n",
       "      <td>Joe Wright</td>\n",
       "      <td>Peter Dinklage</td>\n",
       "      <td>Haley Bennett</td>\n",
       "      <td>Kelvin Harrison Jr.</td>\n",
       "      <td>Drama Comedy History Romance</td>\n",
       "      <td>cyrano</td>\n",
       "      <td>Peter Dinklage Haley Bennett Kelvin Harrison J...</td>\n",
       "    </tr>\n",
       "  </tbody>\n",
       "</table>\n",
       "<p>6427 rows × 8 columns</p>\n",
       "</div>"
      ],
      "text/plain": [
       "      Unnamed: 0      director_name         actor_1_name       actor_2_name  \\\n",
       "0              0      James Cameron          CCH Pounder   Joel David Moore   \n",
       "1              1     Gore Verbinski          Johnny Depp      Orlando Bloom   \n",
       "2              2         Sam Mendes      Christoph Waltz       Rory Kinnear   \n",
       "3              3  Christopher Nolan            Tom Hardy     Christian Bale   \n",
       "4              4        Doug Walker          Doug Walker         Rob Walker   \n",
       "...          ...                ...                  ...                ...   \n",
       "6422        6422     Garth Jennings  Matthew McConaughey  Reese Witherspoon   \n",
       "6423        6423     Matthew Vaughn        Ralph Fiennes     Gemma Arterton   \n",
       "6424        6424          Joel Coen    Denzel Washington  Frances McDormand   \n",
       "6425        6425     Erwin brothers         Zachary Levi        Anna Paquin   \n",
       "6426        6426         Joe Wright       Peter Dinklage      Haley Bennett   \n",
       "\n",
       "              actor_3_name                               genres  \\\n",
       "0                Wes Studi      Action Adventure Fantasy Sci-Fi   \n",
       "1           Jack Davenport             Action Adventure Fantasy   \n",
       "2         Stephanie Sigman            Action Adventure Thriller   \n",
       "3     Joseph Gordon-Levitt                      Action Thriller   \n",
       "4                  unknown                          Documentary   \n",
       "...                    ...                                  ...   \n",
       "6422    Scarlett Johansson  Family Comedy Animation Drama Music   \n",
       "6423            Rhys Ifans        War Action Thriller Adventure   \n",
       "6424         Corey Hawkins                   Drama Thriller War   \n",
       "6425          Dennis Quaid                                Drama   \n",
       "6426   Kelvin Harrison Jr.         Drama Comedy History Romance   \n",
       "\n",
       "                                     movie_title  \\\n",
       "0                                         avatar   \n",
       "1       pirates of the caribbean: at world's end   \n",
       "2                                        spectre   \n",
       "3                          the dark knight rises   \n",
       "4     star wars: episode vii - the force awakens   \n",
       "...                                          ...   \n",
       "6422                                      sing 2   \n",
       "6423                              the king's man   \n",
       "6424                      the tragedy of macbeth   \n",
       "6425                           american underdog   \n",
       "6426                                      cyrano   \n",
       "\n",
       "                                                summary  \n",
       "0     CCH Pounder Joel David Moore Wes Studi James C...  \n",
       "1     Johnny Depp Orlando Bloom Jack Davenport Gore ...  \n",
       "2     Christoph Waltz Rory Kinnear Stephanie Sigman ...  \n",
       "3     Tom Hardy Christian Bale Joseph Gordon-Levitt ...  \n",
       "4     Doug Walker Rob Walker unknown Doug Walker Doc...  \n",
       "...                                                 ...  \n",
       "6422  Matthew McConaughey Reese Witherspoon Scarlett...  \n",
       "6423  Ralph Fiennes Gemma Arterton Rhys Ifans Matthe...  \n",
       "6424  Denzel Washington Frances McDormand Corey Hawk...  \n",
       "6425  Zachary Levi Anna Paquin Dennis Quaid Erwin br...  \n",
       "6426  Peter Dinklage Haley Bennett Kelvin Harrison J...  \n",
       "\n",
       "[6427 rows x 8 columns]"
      ]
     },
     "execution_count": 3,
     "metadata": {},
     "output_type": "execute_result"
    }
   ],
   "source": [
    "movies"
   ]
  },
  {
   "cell_type": "code",
   "execution_count": 5,
   "id": "afd4354b",
   "metadata": {},
   "outputs": [],
   "source": [
    "from sklearn.feature_extraction.text import CountVectorizer\n",
    "from sklearn.metrics.pairwise import cosine_similarity"
   ]
  },
  {
   "cell_type": "code",
   "execution_count": 6,
   "id": "e8e2e0ba",
   "metadata": {},
   "outputs": [],
   "source": [
    "cv = CountVectorizer()"
   ]
  },
  {
   "cell_type": "code",
   "execution_count": 7,
   "id": "04be286d",
   "metadata": {},
   "outputs": [],
   "source": [
    "count_matrix = cv.fit_transform(movies['summary'])"
   ]
  },
  {
   "cell_type": "code",
   "execution_count": 8,
   "id": "42dc493d",
   "metadata": {},
   "outputs": [],
   "source": [
    "similarity = cosine_similarity(count_matrix)"
   ]
  },
  {
   "cell_type": "code",
   "execution_count": 10,
   "id": "c54e4a57",
   "metadata": {},
   "outputs": [
    {
     "data": {
      "text/plain": [
       "array([[0, 0, 0, ..., 0, 0, 0],\n",
       "       [0, 0, 0, ..., 0, 0, 0],\n",
       "       [0, 0, 0, ..., 0, 0, 0],\n",
       "       ...,\n",
       "       [0, 0, 0, ..., 0, 0, 0],\n",
       "       [0, 0, 0, ..., 0, 0, 0],\n",
       "       [0, 0, 0, ..., 0, 0, 0]], dtype=int64)"
      ]
     },
     "execution_count": 10,
     "metadata": {},
     "output_type": "execute_result"
    }
   ],
   "source": [
    "count_matrix.toarray()"
   ]
  },
  {
   "cell_type": "code",
   "execution_count": 23,
   "id": "ca10f94f",
   "metadata": {},
   "outputs": [],
   "source": [
    "def get_index(title):\n",
    "    return movies[movies.movie_title == title].index.values[0]\n",
    "\n",
    "def get_title(index):\n",
    "    return movies[movies.index == index].movie_title.values[0]"
   ]
  },
  {
   "cell_type": "code",
   "execution_count": 24,
   "id": "6127208a",
   "metadata": {},
   "outputs": [
    {
     "data": {
      "text/plain": [
       "6422"
      ]
     },
     "execution_count": 24,
     "metadata": {},
     "output_type": "execute_result"
    }
   ],
   "source": [
    "get_index('sing 2')"
   ]
  },
  {
   "cell_type": "code",
   "execution_count": 25,
   "id": "bc503084",
   "metadata": {},
   "outputs": [
    {
     "data": {
      "text/plain": [
       "'sing 2'"
      ]
     },
     "execution_count": 25,
     "metadata": {},
     "output_type": "execute_result"
    }
   ],
   "source": [
    "get_title(6422)"
   ]
  },
  {
   "cell_type": "code",
   "execution_count": 26,
   "id": "0a12c192",
   "metadata": {},
   "outputs": [],
   "source": [
    "movie_user_likes = 'the tragedy of macbeth'"
   ]
  },
  {
   "cell_type": "code",
   "execution_count": 27,
   "id": "c379516b",
   "metadata": {},
   "outputs": [],
   "source": [
    "user_movie_index = get_index(movie_user_likes)"
   ]
  },
  {
   "cell_type": "code",
   "execution_count": 29,
   "id": "6e1a5cdc",
   "metadata": {},
   "outputs": [],
   "source": [
    "similar_movies = list(enumerate(similarity[user_movie_index]))"
   ]
  },
  {
   "cell_type": "code",
   "execution_count": null,
   "id": "c76a4f56",
   "metadata": {},
   "outputs": [],
   "source": []
  }
 ],
 "metadata": {
  "kernelspec": {
   "display_name": "Python 3",
   "language": "python",
   "name": "python3"
  },
  "language_info": {
   "codemirror_mode": {
    "name": "ipython",
    "version": 3
   },
   "file_extension": ".py",
   "mimetype": "text/x-python",
   "name": "python",
   "nbconvert_exporter": "python",
   "pygments_lexer": "ipython3",
   "version": "3.9.5"
  }
 },
 "nbformat": 4,
 "nbformat_minor": 5
}
