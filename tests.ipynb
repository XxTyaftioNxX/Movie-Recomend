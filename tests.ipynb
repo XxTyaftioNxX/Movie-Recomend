{
 "cells": [
  {
   "cell_type": "code",
   "execution_count": 1,
   "id": "ec7efa85",
   "metadata": {},
   "outputs": [],
   "source": [
    "import pandas as pd\n",
    "import numpy as np\n",
    "import requests\n",
    "import bs4 as bs\n",
    "import urllib.request"
   ]
  },
  {
   "cell_type": "code",
   "execution_count": 2,
   "id": "98b7dc1f",
   "metadata": {},
   "outputs": [],
   "source": [
    "link = \"https://en.wikipedia.org/wiki/List_of_American_films_of_2020\""
   ]
  },
  {
   "cell_type": "code",
   "execution_count": 3,
   "id": "baab9cd0",
   "metadata": {},
   "outputs": [],
   "source": [
    "source = urllib.request.urlopen(link).read()\n",
    "soup = bs.BeautifulSoup(source,'lxml')\n",
    "tables = soup.find_all('table',class_='wikitable sortable')"
   ]
  },
  {
   "cell_type": "code",
   "execution_count": 4,
   "id": "85a36e67",
   "metadata": {},
   "outputs": [],
   "source": [
    "df1 = pd.read_html(str(tables[0]))[0]\n",
    "df2 = pd.read_html(str(tables[1]))[0]\n",
    "df3 = pd.read_html(str(tables[2]))[0]\n",
    "df4 = pd.read_html(str(tables[3]).replace(\"'1\\\"\\'\",'\"1\"'))[0]"
   ]
  },
  {
   "cell_type": "code",
   "execution_count": 5,
   "id": "7fdf00a9",
   "metadata": {},
   "outputs": [],
   "source": [
    "df = df1.append(df2.append(df3.append(df4,ignore_index=True),ignore_index=True),ignore_index=True)"
   ]
  },
  {
   "cell_type": "code",
   "execution_count": 6,
   "id": "2a234ff7",
   "metadata": {},
   "outputs": [],
   "source": [
    "from tmdbv3api import TMDb\n",
    "import json\n",
    "import requests\n",
    "tmdb = TMDb()\n",
    "tmdb.api_key = '0637662c8bb31d6ff455570552952b85'"
   ]
  },
  {
   "cell_type": "code",
   "execution_count": 7,
   "id": "4c34e2f0",
   "metadata": {},
   "outputs": [],
   "source": [
    "df = df[['Title','Cast and crew']]"
   ]
  },
  {
   "cell_type": "code",
   "execution_count": 14,
   "id": "324b77bd",
   "metadata": {},
   "outputs": [],
   "source": [
    "from tmdbv3api import Movie\n",
    "tmdb_movie = Movie() \n",
    "def get_genre(x):\n",
    "    genres = []\n",
    "    result = tmdb_movie.search(x)\n",
    "    return (result)\n",
    "    '''if not result:\n",
    "      return np.NaN\n",
    "    else:\n",
    "      movie_id = result[0].id\n",
    "      response = requests.get('https://api.themoviedb.org/3/movie/{}?api_key={}'.format(movie_id,tmdb.api_key))\n",
    "      data_json = response.json()\n",
    "      if data_json['genres']:\n",
    "          genre_str = \" \" \n",
    "          for i in range(0,len(data_json['genres'])):\n",
    "              genres.append(data_json['genres'][i]['name'])\n",
    "          return genre_str.join(genres)\n",
    "      else:\n",
    "          return np.NaN\n",
    "          '''"
   ]
  },
  {
   "cell_type": "code",
   "execution_count": 15,
   "id": "04ff2a5b",
   "metadata": {},
   "outputs": [],
   "source": [
    "results = get_genre(df.Title[0])"
   ]
  },
  {
   "cell_type": "code",
   "execution_count": 20,
   "id": "c50f1d70",
   "metadata": {},
   "outputs": [
    {
     "data": {
      "text/plain": [
       "[{'adult': False, 'backdrop_path': '/jH0m3IgHaTZ6qq7zoLA30CzogSM.jpg', 'genre_ids': [27, 9648, 53], 'id': 1970, 'original_language': 'en', 'original_title': 'The Grudge', 'overview': 'An American nurse living and working in Tokyo is exposed to a mysterious supernatural curse, one that locks a person in a powerful rage before claiming their life and spreading to another victim.', 'popularity': 33.906, 'poster_path': '/5AGB8FVELnhMMw3nO372sw1xp58.jpg', 'release_date': '2004-10-22', 'title': 'The Grudge', 'video': False, 'vote_average': 5.9, 'vote_count': 2254},\n",
       " {'adult': False, 'backdrop_path': '/bYSenwevJ3e71W0aweIv0vhBrhS.jpg', 'genre_ids': [27, 9648], 'id': 465086, 'original_language': 'en', 'original_title': 'The Grudge', 'overview': 'After a young mother murders her family in her own house, a detective attempts to investigate the mysterious case, only to discover that the house is cursed by a vengeful ghost. Now targeted by the demonic spirits, the detective must do anything to protect herself and her family from harm.', 'popularity': 20.351, 'poster_path': '/vN7JHlHOT9rHNDU27tfYqhABBj5.jpg', 'release_date': '2020-01-02', 'title': 'The Grudge', 'video': False, 'vote_average': 5.6, 'vote_count': 840},\n",
       " {'adult': False, 'backdrop_path': '/3HTK3FtjK5GXIvPswaIMBMHeL3E.jpg', 'genre_ids': [27, 53], 'id': 1975, 'original_language': 'en', 'original_title': 'The Grudge 2', 'overview': 'A young woman encounters a malevolent supernatural force while searching for her missing sister in Tokyo, a mean high school prank goes horribly wrong, and strange things begin happening in a Chicago apartment building.', 'popularity': 21.29, 'poster_path': '/gzr7ywaU9mUfASN57FYsKRFb4l0.jpg', 'release_date': '2006-10-13', 'title': 'The Grudge 2', 'video': False, 'vote_average': 5.5, 'vote_count': 750},\n",
       " {'adult': False, 'backdrop_path': '/23LfsCO7z7d3MPVbS0qUk2y1iJ6.jpg', 'genre_ids': [9648, 27, 53], 'id': 1977, 'original_language': 'en', 'original_title': 'The Grudge 3', 'overview': 'Jake Kimble, the sole survivor of the Chicago massacre, is killed while in solitary confinement. His doctor begins investigating the claims he made about a long-haired woman in white, as a mysterious Japanese woman arrives at his old apartment building to help them get rid of the curse.', 'popularity': 17.18, 'poster_path': '/uEOWWRr8BbgPM0BiJiSTwHGaRx4.jpg', 'release_date': '2009-05-12', 'title': 'The Grudge 3', 'video': False, 'vote_average': 5.5, 'vote_count': 441},\n",
       " {'adult': False, 'backdrop_path': None, 'genre_ids': [27, 16], 'id': 757707, 'original_language': 'en', 'original_title': 'The Grudge 1.5', 'overview': \"The Grudge 1.5 is an animated graphic novel short film, a series of segments set during and between the events of The Grudge and The Grudge 2. It prequels The Grudge 2 as it explores Eason's first contact with the Saeki murders, and consequently to the grudge curse.\", 'popularity': 0.992, 'poster_path': None, 'release_date': '2006-01-01', 'title': 'The Grudge 1.5', 'video': False, 'vote_average': 2, 'vote_count': 1},\n",
       " {'adult': False, 'backdrop_path': None, 'genre_ids': [27], 'id': 376788, 'original_language': 'en', 'original_title': 'Tales from The Grudge', 'overview': '\"Tales from The Grudge\" is a series of three short segments that were released for \"The Grudge 2\" promotion, with an introduction from one of the producers of \"The Grudge,\" Sam Raimi. The three segments expand the curse of the Saeki house as it finds other ways to spread itself, affecting other victims.', 'popularity': 0.739, 'poster_path': None, 'release_date': '2006-09-19', 'title': 'Tales from The Grudge', 'video': False, 'vote_average': 7.7, 'vote_count': 3},\n",
       " {'adult': False, 'backdrop_path': None, 'genre_ids': [27, 99], 'id': 65833, 'original_language': 'en', 'original_title': 'The Grudge 3: The Curse Continues', 'overview': 'The documentary behind the scenes of the movie The Grudge 3', 'popularity': 0.713, 'poster_path': None, 'release_date': '2009-01-01', 'title': 'The Grudge 3: The Curse Continues', 'video': False, 'vote_average': 8, 'vote_count': 4},\n",
       " {'adult': False, 'backdrop_path': '/7sK1fJTh6ndhI7gRg1L9VS4260r.jpg', 'genre_ids': [27], 'id': 11838, 'original_language': 'ja', 'original_title': '呪怨', 'overview': 'Volunteer home-care worker Rika is assigned to visit a family, she is cursed and chased by two revengeful fiends: Kayako, a woman brutally murdered by her husband and her son Toshio. Each person that lives in or visits the haunted house is murdered or disappears.', 'popularity': 12.029, 'poster_path': '/oulszWeFpIBbbLZbkJNQiYRlcQs.jpg', 'release_date': '2002-10-18', 'title': 'Ju-on: The Grudge', 'video': False, 'vote_average': 6.7, 'vote_count': 524},\n",
       " {'adult': False, 'backdrop_path': '/9NACuGg0YkzNAUoRIxUSYFqfJ5m.jpg', 'genre_ids': [27, 53], 'id': 9666, 'original_language': 'ja', 'original_title': '呪怨2', 'overview': 'While driving , the pregnant horror-movie actress Kyôko Harase and her fiancé are in a car crash. She loses her baby and her fiancé winds up in a coma. Kyôko was cursed together with a television crew when they shot a show in the haunted house where Kayako was brutally murdered by her husband years ago. While each member of the team dies or disappears, Kyôko is informed that she has a three-and-a-half-month-old fetus in her womb.', 'popularity': 9.341, 'poster_path': '/y5ASudUs59uweNDkjWPCO2ebR5o.jpg', 'release_date': '2003-08-15', 'title': 'Ju-on: The Grudge 2', 'video': False, 'vote_average': 6.3, 'vote_count': 215},\n",
       " {'adult': False, 'backdrop_path': '/lnlXn8kU3qE3aKWpMkMj22I4aNd.jpg', 'genre_ids': [27], 'id': 26693, 'original_language': 'ja', 'original_title': '呪怨 白い老女', 'overview': 'The spiteful ghosts of an abused girl and her grandmother, both mercilessly murdered, return to haunt and take victims under their grudge.', 'popularity': 7.444, 'poster_path': '/dX9itkjGfYJq4gk2HIdAwmg31l8.jpg', 'release_date': '2009-06-27', 'title': 'Ju-on: White Ghost', 'video': False, 'vote_average': 6.1, 'vote_count': 58},\n",
       " {'adult': False, 'backdrop_path': '/bDdLg1FwfNX029ajdWTQcJdtWqu.jpg', 'genre_ids': [27], 'id': 36917, 'original_language': 'ja', 'original_title': '呪怨 黒い少女', 'overview': \"There is a darkness in Fukie's body that grows and spreads to all who touch her life.\", 'popularity': 4.203, 'poster_path': '/s3Sg0H1J5MctEEhgMxH57WIF1jE.jpg', 'release_date': '2009-06-27', 'title': 'Ju-on: Black Ghost', 'video': False, 'vote_average': 4.7, 'vote_count': 51},\n",
       " {'adult': False, 'backdrop_path': '/qa6fOI7j6mu61zGeKln03nuyoWQ.jpg', 'genre_ids': [27], 'id': 382602, 'original_language': 'ja', 'original_title': '貞子vs伽椰子', 'overview': 'A girl, Yūri Kurahashi, after watching a cursed videotape together with her friend in a haunted house, becomes trapped in a conflict between the two murderous ghosts: Sadako Yamamura and Kayako Saeki', 'popularity': 23.78, 'poster_path': '/bRNL8q6utwEc2Vog5GwTFgm5NEQ.jpg', 'release_date': '2016-06-18', 'title': 'Sadako vs. Kayako', 'video': False, 'vote_average': 5.4, 'vote_count': 150},\n",
       " {'adult': False, 'backdrop_path': None, 'genre_ids': [], 'id': 777242, 'original_language': 'en', 'original_title': 'ROH Night of The Grudges', 'overview': \"Some of Ring of Honor's biggest feuds to date come to a head from the National Guard Armory in Cambridge, MA.\", 'popularity': 0.841, 'poster_path': '/8x67613iUdcArNMEKGcIS9O28cL.jpg', 'release_date': '2003-06-14', 'title': 'ROH Night of The Grudges', 'video': False, 'vote_average': 0, 'vote_count': 0},\n",
       " {'adult': False, 'backdrop_path': None, 'genre_ids': [], 'id': 794852, 'original_language': 'en', 'original_title': 'ROH Night of the Grudges II', 'overview': 'Night of the Grudges II was a wrestling event promoted by Ring of Honor. It took place on August 20, 2005 in Morristown, New Jersey.', 'popularity': 0.6, 'poster_path': '/oUPwIg9MQAJ6KUKkoN6HaMYPMep.jpg', 'release_date': '2005-08-20', 'title': 'ROH Night of the Grudges II', 'video': False, 'vote_average': 0, 'vote_count': 0}]"
      ]
     },
     "execution_count": 20,
     "metadata": {},
     "output_type": "execute_result"
    }
   ],
   "source": [
    "results"
   ]
  },
  {
   "cell_type": "code",
   "execution_count": 16,
   "id": "81f32304",
   "metadata": {},
   "outputs": [
    {
     "data": {
      "text/plain": [
       "{'adult': False, 'backdrop_path': '/jH0m3IgHaTZ6qq7zoLA30CzogSM.jpg', 'genre_ids': [27, 9648, 53], 'id': 1970, 'original_language': 'en', 'original_title': 'The Grudge', 'overview': 'An American nurse living and working in Tokyo is exposed to a mysterious supernatural curse, one that locks a person in a powerful rage before claiming their life and spreading to another victim.', 'popularity': 33.906, 'poster_path': '/5AGB8FVELnhMMw3nO372sw1xp58.jpg', 'release_date': '2004-10-22', 'title': 'The Grudge', 'video': False, 'vote_average': 5.9, 'vote_count': 2254}"
      ]
     },
     "execution_count": 16,
     "metadata": {},
     "output_type": "execute_result"
    }
   ],
   "source": [
    "results[0]"
   ]
  },
  {
   "cell_type": "code",
   "execution_count": 18,
   "id": "15e2251b",
   "metadata": {},
   "outputs": [
    {
     "data": {
      "text/plain": [
       "1970"
      ]
     },
     "execution_count": 18,
     "metadata": {},
     "output_type": "execute_result"
    }
   ],
   "source": [
    "results[0].id"
   ]
  },
  {
   "cell_type": "code",
   "execution_count": 19,
   "id": "5936cf60",
   "metadata": {},
   "outputs": [
    {
     "data": {
      "text/plain": [
       "{'adult': False, 'backdrop_path': '/bYSenwevJ3e71W0aweIv0vhBrhS.jpg', 'genre_ids': [27, 9648], 'id': 465086, 'original_language': 'en', 'original_title': 'The Grudge', 'overview': 'After a young mother murders her family in her own house, a detective attempts to investigate the mysterious case, only to discover that the house is cursed by a vengeful ghost. Now targeted by the demonic spirits, the detective must do anything to protect herself and her family from harm.', 'popularity': 20.351, 'poster_path': '/vN7JHlHOT9rHNDU27tfYqhABBj5.jpg', 'release_date': '2020-01-02', 'title': 'The Grudge', 'video': False, 'vote_average': 5.6, 'vote_count': 840}"
      ]
     },
     "execution_count": 19,
     "metadata": {},
     "output_type": "execute_result"
    }
   ],
   "source": [
    "results[1]"
   ]
  },
  {
   "cell_type": "code",
   "execution_count": 22,
   "id": "a19dd206",
   "metadata": {},
   "outputs": [],
   "source": [
    "movie_id = results[0].id\n",
    "response = requests.get('https://api.themoviedb.org/3/movie/{}?api_key={}'.format(movie_id,tmdb.api_key))"
   ]
  },
  {
   "cell_type": "code",
   "execution_count": 31,
   "id": "bbf6ac60",
   "metadata": {
    "scrolled": true
   },
   "outputs": [],
   "source": [
    "data_json = response.json()"
   ]
  },
  {
   "cell_type": "code",
   "execution_count": 37,
   "id": "b622701c",
   "metadata": {},
   "outputs": [
    {
     "name": "stdout",
     "output_type": "stream",
     "text": [
      "An American nurse living and working in Tokyo is exposed to a mysterious supernatural curse, one that locks a person in a powerful rage before claiming their life and spreading to another victim.\n"
     ]
    }
   ],
   "source": [
    "if data_json['overview']:\n",
    "   print(data_json['overview'])"
   ]
  },
  {
   "cell_type": "code",
   "execution_count": null,
   "id": "36902223",
   "metadata": {},
   "outputs": [],
   "source": []
  },
  {
   "cell_type": "code",
   "execution_count": null,
   "id": "0dc52d28",
   "metadata": {},
   "outputs": [],
   "source": []
  },
  {
   "cell_type": "code",
   "execution_count": 28,
   "id": "66b9d913",
   "metadata": {},
   "outputs": [],
   "source": [
    "keys = requests.get('https://api.themoviedb.org/3/keyword/{}?api_key={}'.format(movie_id, tmdb.api_key))"
   ]
  },
  {
   "cell_type": "code",
   "execution_count": 29,
   "id": "e4690e1e",
   "metadata": {},
   "outputs": [
    {
     "data": {
      "text/plain": [
       "{'success': False,\n",
       " 'status_code': 34,\n",
       " 'status_message': 'The resource you requested could not be found.'}"
      ]
     },
     "execution_count": 29,
     "metadata": {},
     "output_type": "execute_result"
    }
   ],
   "source": [
    "keys.json()"
   ]
  },
  {
   "cell_type": "code",
   "execution_count": 42,
   "id": "e4b88775",
   "metadata": {},
   "outputs": [],
   "source": [
    "result = tmdb_movie.search('the grudge 2')"
   ]
  },
  {
   "cell_type": "code",
   "execution_count": 43,
   "id": "d8914aed",
   "metadata": {},
   "outputs": [
    {
     "data": {
      "text/plain": [
       "[{'adult': False, 'backdrop_path': '/3HTK3FtjK5GXIvPswaIMBMHeL3E.jpg', 'genre_ids': [27, 53], 'id': 1975, 'original_language': 'en', 'original_title': 'The Grudge 2', 'overview': 'A young woman encounters a malevolent supernatural force while searching for her missing sister in Tokyo, a mean high school prank goes horribly wrong, and strange things begin happening in a Chicago apartment building.', 'popularity': 21.29, 'poster_path': '/gzr7ywaU9mUfASN57FYsKRFb4l0.jpg', 'release_date': '2006-10-13', 'title': 'The Grudge 2', 'video': False, 'vote_average': 5.5, 'vote_count': 750},\n",
       " {'adult': False, 'backdrop_path': '/9NACuGg0YkzNAUoRIxUSYFqfJ5m.jpg', 'genre_ids': [27, 53], 'id': 9666, 'original_language': 'ja', 'original_title': '呪怨2', 'overview': 'While driving , the pregnant horror-movie actress Kyôko Harase and her fiancé are in a car crash. She loses her baby and her fiancé winds up in a coma. Kyôko was cursed together with a television crew when they shot a show in the haunted house where Kayako was brutally murdered by her husband years ago. While each member of the team dies or disappears, Kyôko is informed that she has a three-and-a-half-month-old fetus in her womb.', 'popularity': 9.341, 'poster_path': '/y5ASudUs59uweNDkjWPCO2ebR5o.jpg', 'release_date': '2003-08-15', 'title': 'Ju-on: The Grudge 2', 'video': False, 'vote_average': 6.3, 'vote_count': 215},\n",
       " {'adult': False, 'backdrop_path': '/jH0m3IgHaTZ6qq7zoLA30CzogSM.jpg', 'genre_ids': [27, 9648, 53], 'id': 1970, 'original_language': 'en', 'original_title': 'The Grudge', 'overview': 'An American nurse living and working in Tokyo is exposed to a mysterious supernatural curse, one that locks a person in a powerful rage before claiming their life and spreading to another victim.', 'popularity': 33.906, 'poster_path': '/5AGB8FVELnhMMw3nO372sw1xp58.jpg', 'release_date': '2004-10-22', 'title': 'The Grudge', 'video': False, 'vote_average': 5.9, 'vote_count': 2254},\n",
       " {'adult': False, 'backdrop_path': '/bYSenwevJ3e71W0aweIv0vhBrhS.jpg', 'genre_ids': [27, 9648], 'id': 465086, 'original_language': 'en', 'original_title': 'The Grudge', 'overview': 'After a young mother murders her family in her own house, a detective attempts to investigate the mysterious case, only to discover that the house is cursed by a vengeful ghost. Now targeted by the demonic spirits, the detective must do anything to protect herself and her family from harm.', 'popularity': 20.351, 'poster_path': '/vN7JHlHOT9rHNDU27tfYqhABBj5.jpg', 'release_date': '2020-01-02', 'title': 'The Grudge', 'video': False, 'vote_average': 5.6, 'vote_count': 840},\n",
       " {'adult': False, 'backdrop_path': '/23LfsCO7z7d3MPVbS0qUk2y1iJ6.jpg', 'genre_ids': [9648, 27, 53], 'id': 1977, 'original_language': 'en', 'original_title': 'The Grudge 3', 'overview': 'Jake Kimble, the sole survivor of the Chicago massacre, is killed while in solitary confinement. His doctor begins investigating the claims he made about a long-haired woman in white, as a mysterious Japanese woman arrives at his old apartment building to help them get rid of the curse.', 'popularity': 17.18, 'poster_path': '/uEOWWRr8BbgPM0BiJiSTwHGaRx4.jpg', 'release_date': '2009-05-12', 'title': 'The Grudge 3', 'video': False, 'vote_average': 5.5, 'vote_count': 441},\n",
       " {'adult': False, 'backdrop_path': '/7sK1fJTh6ndhI7gRg1L9VS4260r.jpg', 'genre_ids': [27], 'id': 11838, 'original_language': 'ja', 'original_title': '呪怨', 'overview': 'Volunteer home-care worker Rika is assigned to visit a family, she is cursed and chased by two revengeful fiends: Kayako, a woman brutally murdered by her husband and her son Toshio. Each person that lives in or visits the haunted house is murdered or disappears.', 'popularity': 12.029, 'poster_path': '/oulszWeFpIBbbLZbkJNQiYRlcQs.jpg', 'release_date': '2002-10-18', 'title': 'Ju-on: The Grudge', 'video': False, 'vote_average': 6.7, 'vote_count': 524},\n",
       " {'adult': False, 'backdrop_path': '/lnlXn8kU3qE3aKWpMkMj22I4aNd.jpg', 'genre_ids': [27], 'id': 26693, 'original_language': 'ja', 'original_title': '呪怨 白い老女', 'overview': 'The spiteful ghosts of an abused girl and her grandmother, both mercilessly murdered, return to haunt and take victims under their grudge.', 'popularity': 7.444, 'poster_path': '/dX9itkjGfYJq4gk2HIdAwmg31l8.jpg', 'release_date': '2009-06-27', 'title': 'Ju-on: White Ghost', 'video': False, 'vote_average': 6.1, 'vote_count': 58},\n",
       " {'adult': False, 'backdrop_path': '/bDdLg1FwfNX029ajdWTQcJdtWqu.jpg', 'genre_ids': [27], 'id': 36917, 'original_language': 'ja', 'original_title': '呪怨 黒い少女', 'overview': \"There is a darkness in Fukie's body that grows and spreads to all who touch her life.\", 'popularity': 4.203, 'poster_path': '/s3Sg0H1J5MctEEhgMxH57WIF1jE.jpg', 'release_date': '2009-06-27', 'title': 'Ju-on: Black Ghost', 'video': False, 'vote_average': 4.7, 'vote_count': 51},\n",
       " {'adult': False, 'backdrop_path': None, 'genre_ids': [27], 'id': 376788, 'original_language': 'en', 'original_title': 'Tales from The Grudge', 'overview': '\"Tales from The Grudge\" is a series of three short segments that were released for \"The Grudge 2\" promotion, with an introduction from one of the producers of \"The Grudge,\" Sam Raimi. The three segments expand the curse of the Saeki house as it finds other ways to spread itself, affecting other victims.', 'popularity': 0.739, 'poster_path': None, 'release_date': '2006-09-19', 'title': 'Tales from The Grudge', 'video': False, 'vote_average': 7.7, 'vote_count': 3},\n",
       " {'adult': False, 'backdrop_path': None, 'genre_ids': [27, 16], 'id': 757707, 'original_language': 'en', 'original_title': 'The Grudge 1.5', 'overview': \"The Grudge 1.5 is an animated graphic novel short film, a series of segments set during and between the events of The Grudge and The Grudge 2. It prequels The Grudge 2 as it explores Eason's first contact with the Saeki murders, and consequently to the grudge curse.\", 'popularity': 0.992, 'poster_path': None, 'release_date': '2006-01-01', 'title': 'The Grudge 1.5', 'video': False, 'vote_average': 2, 'vote_count': 1},\n",
       " {'adult': False, 'backdrop_path': '/qa6fOI7j6mu61zGeKln03nuyoWQ.jpg', 'genre_ids': [27], 'id': 382602, 'original_language': 'ja', 'original_title': '貞子vs伽椰子', 'overview': 'A girl, Yūri Kurahashi, after watching a cursed videotape together with her friend in a haunted house, becomes trapped in a conflict between the two murderous ghosts: Sadako Yamamura and Kayako Saeki', 'popularity': 23.78, 'poster_path': '/bRNL8q6utwEc2Vog5GwTFgm5NEQ.jpg', 'release_date': '2016-06-18', 'title': 'Sadako vs. Kayako', 'video': False, 'vote_average': 5.4, 'vote_count': 150},\n",
       " {'adult': False, 'backdrop_path': None, 'genre_ids': [], 'id': 777242, 'original_language': 'en', 'original_title': 'ROH Night of The Grudges', 'overview': \"Some of Ring of Honor's biggest feuds to date come to a head from the National Guard Armory in Cambridge, MA.\", 'popularity': 0.841, 'poster_path': '/8x67613iUdcArNMEKGcIS9O28cL.jpg', 'release_date': '2003-06-14', 'title': 'ROH Night of The Grudges', 'video': False, 'vote_average': 0, 'vote_count': 0},\n",
       " {'adult': False, 'backdrop_path': None, 'genre_ids': [], 'id': 794852, 'original_language': 'en', 'original_title': 'ROH Night of the Grudges II', 'overview': 'Night of the Grudges II was a wrestling event promoted by Ring of Honor. It took place on August 20, 2005 in Morristown, New Jersey.', 'popularity': 0.6, 'poster_path': '/oUPwIg9MQAJ6KUKkoN6HaMYPMep.jpg', 'release_date': '2005-08-20', 'title': 'ROH Night of the Grudges II', 'video': False, 'vote_average': 0, 'vote_count': 0},\n",
       " {'adult': False, 'backdrop_path': None, 'genre_ids': [27, 99], 'id': 65833, 'original_language': 'en', 'original_title': 'The Grudge 3: The Curse Continues', 'overview': 'The documentary behind the scenes of the movie The Grudge 3', 'popularity': 0.713, 'poster_path': None, 'release_date': '2009-01-01', 'title': 'The Grudge 3: The Curse Continues', 'video': False, 'vote_average': 8, 'vote_count': 4}]"
      ]
     },
     "execution_count": 43,
     "metadata": {},
     "output_type": "execute_result"
    }
   ],
   "source": [
    "result"
   ]
  },
  {
   "cell_type": "code",
   "execution_count": 44,
   "id": "eb86a6d9",
   "metadata": {},
   "outputs": [],
   "source": [
    "#adding overviews (Takes long time)\n",
    "\n",
    "from tmdbv3api import TMDb\n",
    "import json\n",
    "import requests\n",
    "tmdb = TMDb()\n",
    "tmdb.api_key = '0637662c8bb31d6ff455570552952b85'\n",
    "from tmdbv3api import Movie\n",
    "tmdb_movie = Movie() \n",
    "def get_overview(x):\n",
    "    result = tmdb_movie.search(x)\n",
    "    if not result:\n",
    "      return np.NaN\n",
    "    else:\n",
    "      movie_id = result[0].id\n",
    "      response = requests.get('https://api.themoviedb.org/3/movie/{}?api_key={}'.format(movie_id,tmdb.api_key))\n",
    "      data_json = response.json()\n",
    "      if data_json['overview']:\n",
    "          return data_json['overview']\n",
    "      else:\n",
    "          return np.NaN          "
   ]
  },
  {
   "cell_type": "code",
   "execution_count": null,
   "id": "610a21df",
   "metadata": {},
   "outputs": [],
   "source": []
  }
 ],
 "metadata": {
  "kernelspec": {
   "display_name": "Python 3",
   "language": "python",
   "name": "python3"
  },
  "language_info": {
   "codemirror_mode": {
    "name": "ipython",
    "version": 3
   },
   "file_extension": ".py",
   "mimetype": "text/x-python",
   "name": "python",
   "nbconvert_exporter": "python",
   "pygments_lexer": "ipython3",
   "version": "3.9.5"
  }
 },
 "nbformat": 4,
 "nbformat_minor": 5
}
